{
 "cells": [
  {
   "cell_type": "markdown",
   "id": "c24f27ea",
   "metadata": {},
   "source": [
    "# LazyFox Workflow\n",
    "\n",
    "This is a guide on how to use our LazyFox project. It downloads the [Eu-Core dataset from the SNAP Group](https://snap.stanford.edu/data/email-Eu-core.html) and runs the LazyFox algorithm on it.\n",
    "\n",
    "Further analysis can be made on the resulting output using the `Analysis.ipynb` notebook.\n",
    "\n",
    "Note that this notebook is only examplary and not fit to handle larger datasets. Use the code here or refer to the `README.md` to run LazyFox from the commandline."
   ]
  },
  {
   "cell_type": "markdown",
   "id": "2e29f3f4",
   "metadata": {},
   "source": [
    "## Setup\n",
    "\n",
    "Fetch the latest release of LazyFox or compile it yourself and specify the path to the binary below!\n",
    "\n",
    "You can also change the directories used, they will be created if not already present."
   ]
  },
  {
   "cell_type": "code",
   "execution_count": null,
   "id": "8a45c827",
   "metadata": {},
   "outputs": [],
   "source": [
    "lazy_fox_binary = \"../LazyFox\"\n",
    "\n",
    "dataset_directory = \"./datasets\"\n",
    "output_directory = \"./output\""
   ]
  },
  {
   "cell_type": "code",
   "execution_count": null,
   "id": "198caa52",
   "metadata": {},
   "outputs": [],
   "source": [
    "# Make the binary executable\n",
    "!chmod +x {lazy_fox_binary}"
   ]
  },
  {
   "cell_type": "code",
   "execution_count": null,
   "id": "85067727",
   "metadata": {},
   "outputs": [],
   "source": [
    "import os\n",
    "import os.path\n",
    "import urllib\n",
    "import gzip\n",
    "import shutil\n",
    "import uuid\n",
    "\n",
    "from Datasets import download\n",
    "\n",
    "\n",
    "# Setup directories\n",
    "os.makedirs(dataset_directory, exist_ok=True)\n",
    "\n",
    "# Download the Eu-Core dataset\n",
    "download(\"eu\", dataset_directory)"
   ]
  },
  {
   "cell_type": "markdown",
   "id": "b68f4609",
   "metadata": {},
   "source": [
    "## Run\n",
    "The following cells build the command to run LazyFox.\n",
    "\n",
    "If the linux time utility exists (`/usr/bin/time`) the command is also benchmarked!"
   ]
  },
  {
   "cell_type": "code",
   "execution_count": null,
   "id": "0956719c",
   "metadata": {},
   "outputs": [],
   "source": [
    "# Dataset input\n",
    "eu_txt_path = os.path.join(dataset_directory, \"email-Eu-core.txt\")\n",
    "\n",
    "# Create a unique run directory\n",
    "run_output_directory = os.path.join(output_directory, uuid.uuid1().hex)\n",
    "os.makedirs(run_output_directory, exist_ok=True)\n",
    "\n",
    "queue_size = 1\n",
    "thread_count = queue_size # highest parallelization degree possible is thread_count equal to queue_size\n",
    "dumping = True # Whether computation results should be dumped to disk [0|1]\n",
    "\n",
    "log_file = os.path.join(run_output_directory, \"log\")\n",
    "\n",
    "command = f\"{lazy_fox_binary} --input-graph {eu_txt_path} --output-dir {run_output_directory} \" \\\n",
    "            f\"--queue-size {queue_size} --thread-count {thread_count}\"\n",
    "if not dumping:\n",
    "    command += \" --disable-dumping \"\n",
    "print(\"The raw command:\")\n",
    "print(command)"
   ]
  },
  {
   "cell_type": "code",
   "execution_count": null,
   "id": "f0495691",
   "metadata": {},
   "outputs": [],
   "source": [
    "# Capture the stdout and stderr into a log file\n",
    "command = command + f\" 2>&1 > {log_file}\"\n",
    "print(\"The command with log file capture:\")\n",
    "print(command)"
   ]
  },
  {
   "cell_type": "code",
   "execution_count": null,
   "id": "64963192",
   "metadata": {},
   "outputs": [],
   "source": [
    "# Add time benchmark to the command\n",
    "if os.path.exists(\"/usr/bin/time\"):\n",
    "    benchmark_file = os.path.join(run_output_directory, \"bench.mark\")\n",
    "    benchmark_prefix = f\"/usr/bin/time -v -o {benchmark_file}\"\n",
    "\n",
    "    command = f\"{benchmark_prefix} {command}\"\n",
    "    \n",
    "    print(\"Command with time benchmark:\")\n",
    "    print(command)\n",
    "else:\n",
    "    print(\"'/usr/bin/time' not found, running without benchmark!\")"
   ]
  },
  {
   "cell_type": "code",
   "execution_count": null,
   "id": "b88b4873",
   "metadata": {},
   "outputs": [],
   "source": [
    "# Run the benchmark command in bash shell\n",
    "!{command}"
   ]
  },
  {
   "cell_type": "code",
   "execution_count": null,
   "id": "d8169a51",
   "metadata": {},
   "outputs": [],
   "source": [
    "# Display the log\n",
    "!cat {log_file}"
   ]
  }
 ],
 "metadata": {
  "kernelspec": {
   "display_name": "Python 3 (ipykernel)",
   "language": "python",
   "name": "python3"
  },
  "language_info": {
   "codemirror_mode": {
    "name": "ipython",
    "version": 3
   },
   "file_extension": ".py",
   "mimetype": "text/x-python",
   "name": "python",
   "nbconvert_exporter": "python",
   "pygments_lexer": "ipython3",
   "version": "3.9.12"
  }
 },
 "nbformat": 4,
 "nbformat_minor": 5
}
